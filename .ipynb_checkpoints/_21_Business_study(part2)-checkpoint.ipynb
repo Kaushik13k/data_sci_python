{
 "cells": [
  {
   "cell_type": "code",
   "execution_count": 15,
   "metadata": {},
   "outputs": [],
   "source": [
    "import numpy as np\n",
    "import tensorflow as tf"
   ]
  },
  {
   "cell_type": "markdown",
   "metadata": {},
   "source": [
    "## Load the data"
   ]
  },
  {
   "cell_type": "code",
   "execution_count": 17,
   "metadata": {},
   "outputs": [],
   "source": [
    "npz = np.load('Audio_data_train.npz')\n",
    "\n",
    "train_inputs = npz['inputs'].astype(np.float)\n",
    "train_targets = npz['targets'].astype(np.int)\n",
    "\n",
    "npz = np.load('Audio_data_valid.npz')\n",
    "valid_inputs = npz['inputs'].astype(np.float)\n",
    "valid_targets = npz['targets'].astype(np.int)\n",
    "\n",
    "npz = np.load('Audio_data_test.npz')\n",
    "test_inputs = npz['inputs'].astype(np.float)\n",
    "test_targets = npz['targets'].astype(np.int)"
   ]
  },
  {
   "cell_type": "markdown",
   "metadata": {},
   "source": [
    "## Model"
   ]
  },
  {
   "cell_type": "code",
   "execution_count": 23,
   "metadata": {},
   "outputs": [
    {
     "name": "stdout",
     "output_type": "stream",
     "text": [
      "Epoch 1/100\n",
      "36/36 - 0s - loss: 0.5217 - accuracy: 0.7184 - val_loss: 0.4338 - val_accuracy: 0.7875\n",
      "Epoch 2/100\n",
      "36/36 - 0s - loss: 0.4108 - accuracy: 0.7896 - val_loss: 0.3861 - val_accuracy: 0.8098\n",
      "Epoch 3/100\n",
      "36/36 - 0s - loss: 0.3810 - accuracy: 0.7983 - val_loss: 0.3685 - val_accuracy: 0.8166\n",
      "Epoch 4/100\n",
      "36/36 - 0s - loss: 0.3642 - accuracy: 0.8050 - val_loss: 0.3441 - val_accuracy: 0.8166\n",
      "Epoch 5/100\n",
      "36/36 - 0s - loss: 0.3584 - accuracy: 0.8117 - val_loss: 0.3511 - val_accuracy: 0.8166\n",
      "Epoch 6/100\n",
      "36/36 - 0s - loss: 0.3562 - accuracy: 0.8053 - val_loss: 0.3518 - val_accuracy: 0.8188\n"
     ]
    },
    {
     "data": {
      "text/plain": [
       "<tensorflow.python.keras.callbacks.History at 0x1adac36eaf0>"
      ]
     },
     "execution_count": 23,
     "metadata": {},
     "output_type": "execute_result"
    }
   ],
   "source": [
    "input_size = 10\n",
    "output_size = 2\n",
    "hidden_layers_size = 100\n",
    "\n",
    "model = tf.keras.Sequential([\n",
    "#     tf.keras.layers.Flatten(input_shape = (28, 38, 1)),\n",
    "    tf.keras.layers.Dense(hidden_layers_size, activation='relu'),\n",
    "    tf.keras.layers.Dense(hidden_layers_size, activation='relu'),\n",
    "    tf.keras.layers.Dense(output_size, activation='softmax')    \n",
    "])\n",
    "\n",
    "model.compile(optimizer='adam', loss='sparse_categorical_crossentropy', metrics=['accuracy'])\n",
    "\n",
    "batch_size = 100\n",
    "\n",
    "epoch_size = 100\n",
    "\n",
    "from tensorflow.keras.callbacks import EarlyStopping\n",
    "early_stopping = EarlyStopping(patience=2)\n",
    "\n",
    "model.fit(train_inputs, \n",
    "          train_targets,\n",
    "          batch_size=batch_size,\n",
    "          epochs=epoch_size,\n",
    "          callbacks=[early_stopping],\n",
    "          validation_data=(valid_inputs, valid_targets),\n",
    "          verbose=2\n",
    "         )"
   ]
  },
  {
   "cell_type": "markdown",
   "metadata": {},
   "source": [
    "## Test the model"
   ]
  },
  {
   "cell_type": "code",
   "execution_count": 24,
   "metadata": {},
   "outputs": [
    {
     "name": "stdout",
     "output_type": "stream",
     "text": [
      "14/14 [==============================] - 0s 1ms/step - loss: 0.3424 - accuracy: 0.8013\n"
     ]
    }
   ],
   "source": [
    "test_loss, test_accuracy = model.evaluate(test_inputs, test_targets)"
   ]
  },
  {
   "cell_type": "code",
   "execution_count": 28,
   "metadata": {},
   "outputs": [
    {
     "name": "stdout",
     "output_type": "stream",
     "text": [
      "\n",
      " Test loss: 0.34. Test Accuracy: 80.13% \n"
     ]
    }
   ],
   "source": [
    "print(\"\\n Test loss: {0:.2f}. Test Accuracy: {1:.2f}% \".format(test_loss, test_accuracy*100.))"
   ]
  },
  {
   "cell_type": "code",
   "execution_count": null,
   "metadata": {},
   "outputs": [],
   "source": []
  }
 ],
 "metadata": {
  "kernelspec": {
   "display_name": "Python [conda env:py3-TF2.0]",
   "language": "python",
   "name": "conda-env-py3-TF2.0-py"
  },
  "language_info": {
   "codemirror_mode": {
    "name": "ipython",
    "version": 3
   },
   "file_extension": ".py",
   "mimetype": "text/x-python",
   "name": "python",
   "nbconvert_exporter": "python",
   "pygments_lexer": "ipython3",
   "version": "3.8.10"
  }
 },
 "nbformat": 4,
 "nbformat_minor": 4
}
